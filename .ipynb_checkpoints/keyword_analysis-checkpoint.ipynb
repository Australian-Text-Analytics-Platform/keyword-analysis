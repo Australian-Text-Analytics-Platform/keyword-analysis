{
 "cells": [
  {
   "cell_type": "markdown",
   "id": "09ff3725",
   "metadata": {},
   "source": [
    "# Keyword Analysis\n",
    "\n",
    "In this notebook, you will use the KeywordAnalysis tool to analyse words in a collection of corpus and identify whether certain words are over or under-represented in a particular corpus compared to their representation in other corpus.  \n",
    "\n",
    "**Note:** the statistical calculations used in this tool are python implementation of the statistical calculation on this [website](https://ucrel.lancs.ac.uk/llwizard.html).\n",
    "\n",
    "<div class=\"alert alert-block alert-warning\">\n",
    "<b>User guide to using a Jupyter Notebook</b> \n",
    "\n",
    "If you are new to Jupyter Notebook, feel free to take a quick look at [this user guide](https://github.com/Australian-Text-Analytics-Platform/semantic-tagger/blob/main/documents/jupyter-notebook-guide.pdf) for basic information on how to use a notebook.\n",
    "</div>"
   ]
  },
  {
   "cell_type": "markdown",
   "id": "2c08e975",
   "metadata": {},
   "source": [
    "## 1. Setup\n",
    "Before you begin, you need to import the KeywordAnalysis package and the necessary libraries and initiate them to run in this notebook."
   ]
  },
  {
   "cell_type": "code",
   "execution_count": null,
   "id": "045c5ce2",
   "metadata": {},
   "outputs": [],
   "source": [
    "# import the KeywordAnalysis tool\n",
    "print('Loading KeywordAnalysis...')\n",
    "from keyword_analysis import KeywordAnalysis, DownloadFileLink\n",
    "\n",
    "# initialize the DocumentSimilarity\n",
    "ka = KeywordAnalysis()\n",
    "print('Finished loading.')"
   ]
  },
  {
   "cell_type": "markdown",
   "id": "e631321b",
   "metadata": {},
   "source": [
    "## 2. Load the data\n",
    "This notebook will allow you upload text data in a text file (or a number of text files). Alternatively, you can also upload text inside a text column inside your excel spreadsheet (see an example below).  \n",
    "\n",
    "<table style='margin-left: 10px'><tr>\n",
    "<td> <img src='./img/txt_icon.png' style='width: 45px'/> </td>\n",
    "<td> <img src='./img/xlsx_icon.png' style='width: 55px'/> </td>\n",
    "<td> <img src='./img/csv_icon.png' style='width: 45px'/> </td>\n",
    "<td> <img src='./img/zip_icon.png' style='width: 45px'/> </td>\n",
    "</tr></table>  \n",
    "\n",
    "<table style='margin-left: 10px'><tr>\n",
    "<td> <img src='./img/excel_sample.png' style='width: 600px'/> </td>\n",
    "</tr></table> \n",
    "\n",
    "<div class=\"alert alert-block alert-warning\">\n",
    "<b>Uploading your text files</b> \n",
    "    \n",
    "If you have a large number of text files (more than 10MB in total), we suggest you compress (zip) them and upload the zip file instead. If you need assistance on how to compress your file, please check [the user guide](https://github.com/Australian-Text-Analytics-Platform/semantic-tagger/blob/main/documents/jupyter-notebook-guide.pdf) for more info.  \n",
    "    \n",
    "If you upload an excel spreadsheet, please ensure it includes the three columns (text_name, text and source), as shown above. Alternatively, you can also upload the compressed text files (zip of .txt files) corpus by corpus. In this case, please ensure to enter the corpus name for each corpus below.\n",
    "</div>\n",
    "\n",
    "<div class=\"alert alert-block alert-danger\">\n",
    "<b>Large file upload</b> \n",
    "    \n",
    "If you have ongoing issues with the file upload, please re-launch the notebook via Binder again. If the issue persists, consider restarting your computer.\n",
    "</div>"
   ]
  },
  {
   "cell_type": "code",
   "execution_count": null,
   "id": "875739d0",
   "metadata": {},
   "outputs": [],
   "source": [
    "# upload the text files and/or excel spreadsheets onto the system\n",
    "display(ka.upload_box)\n",
    "print('Uploading large files may take a while. Please be patient.')"
   ]
  },
  {
   "cell_type": "code",
   "execution_count": null,
   "id": "58d49bc3",
   "metadata": {},
   "outputs": [],
   "source": [
    "# display uploaded text\n",
    "n=5\n",
    "\n",
    "ka.text_df.head()"
   ]
  },
  {
   "cell_type": "markdown",
   "id": "b6cdc7da",
   "metadata": {},
   "source": [
    "## 3. Calculate word statistics\n",
    "Once your texts have been uploaded, you can begin to calculate the statistics for the words in the corpus. \n",
    "\n",
    "<div class=\"alert alert-block alert-danger\">\n",
    "<b>Memory limitation in Binder</b> \n",
    "    \n",
    "The free Binder deployment is only guaranteed a maximum of 2GB memory. Processing very large text files may cause the session (kernel) to re-start due to insufficient memory. Check [the user guide](https://github.com/Australian-Text-Analytics-Platform/semantic-tagger/blob/main/documents/jupyter-notebook-guide.pdf) for more info. \n",
    "</div>"
   ]
  },
  {
   "cell_type": "code",
   "execution_count": null,
   "id": "cbf368ed",
   "metadata": {},
   "outputs": [],
   "source": [
    "# begin the process of calculating word statistics\n",
    "ka.calculate_corpus_statistics()"
   ]
  },
  {
   "cell_type": "markdown",
   "id": "7c5f8eec",
   "metadata": {},
   "source": [
    "## 4. Analyse word statistics\n",
    "Once the tool has finished calculating the statistics, you can begin to analyse the outcome.  \n",
    "\n",
    "<div class=\"alert alert-block alert-warning\">\n",
    "<b>Pairwise analysis</b> \n",
    "    \n",
    "In the below, you can analyse statistics between pair of sources (corpus vs the rest of the corpus) and see the statistics for all words in the corpus. You can use the below tool to select which corpus to include in the graph and what statistics to show, e.g., normalised word count, log-likelihood, Bayes factor BIC, effect size for log-likelihood (ELL), relative risk, log ratio and odds ratio. \n",
    "    \n",
    "**Note:** The graph only shows 40 words at a time. However, you can use the selection slider to select the words you wish to display on the chart.\n",
    "</div>"
   ]
  },
  {
   "cell_type": "code",
   "execution_count": null,
   "id": "5309d3a2",
   "metadata": {
    "scrolled": false
   },
   "outputs": [],
   "source": [
    "# generate pair-wise corpus analysis\n",
    "ka.analyse_stats()"
   ]
  },
  {
   "cell_type": "markdown",
   "id": "16de0d62",
   "metadata": {},
   "source": [
    "You can also run the below code to save the pairwise analysis onto an excel spreadsheet and download it to your local computer."
   ]
  },
  {
   "cell_type": "code",
   "execution_count": null,
   "id": "3b960de0",
   "metadata": {},
   "outputs": [],
   "source": [
    "# specify the saving parameters\n",
    "df = ka.pairwise_compare\n",
    "output_dir = './output/'\n",
    "file_name = 'pairwise_analysis.xlsx'\n",
    "sheet_name = 'pairwise-analysis'\n",
    "\n",
    "# select the number of rows to display\n",
    "display_n = 5\n",
    "\n",
    "# save and display the first n rows\n",
    "ka.save_analysis(df, output_dir, file_name, sheet_name, display_n)"
   ]
  },
  {
   "cell_type": "markdown",
   "id": "5671f463",
   "metadata": {},
   "source": [
    "<div class=\"alert alert-block alert-warning\">\n",
    "<b>Multi-corpora analysis</b> \n",
    "    \n",
    "In the below, you can analyse statistics between multi-corpora at the same time and see the statistics for all words in the corpus. Similar to the above, you can use the below tool to select which statistics to show and the selection slider to select the words you wish to display on the chart.\n",
    "</div>"
   ]
  },
  {
   "cell_type": "code",
   "execution_count": null,
   "id": "2f79fb65",
   "metadata": {
    "scrolled": false
   },
   "outputs": [],
   "source": [
    "# generate multi-corpus analysis\n",
    "ka.analyse_stats(multi=True)"
   ]
  },
  {
   "cell_type": "markdown",
   "id": "ac776393",
   "metadata": {},
   "source": [
    "Last but not least, you can also run the below code to save the multi-corpora analysis and download it to your local computer."
   ]
  },
  {
   "cell_type": "code",
   "execution_count": null,
   "id": "589a9d81",
   "metadata": {},
   "outputs": [],
   "source": [
    "# specify the saving parameters\n",
    "df = ka.multicorp_comparison\n",
    "output_dir = './output/'\n",
    "file_name = 'multi_corpus_analysis.xlsx'\n",
    "sheet_name = 'multi-corpus-analysis'\n",
    "\n",
    "# select the number of rows to display\n",
    "display_n = 5\n",
    "\n",
    "# save and display the first n rows\n",
    "ka.save_analysis(df, output_dir, file_name, sheet_name, display_n)"
   ]
  }
 ],
 "metadata": {
  "kernelspec": {
   "display_name": "Python 3 (ipykernel)",
   "language": "python",
   "name": "python3"
  },
  "language_info": {
   "codemirror_mode": {
    "name": "ipython",
    "version": 3
   },
   "file_extension": ".py",
   "mimetype": "text/x-python",
   "name": "python",
   "nbconvert_exporter": "python",
   "pygments_lexer": "ipython3",
   "version": "3.9.13"
  }
 },
 "nbformat": 4,
 "nbformat_minor": 5
}
